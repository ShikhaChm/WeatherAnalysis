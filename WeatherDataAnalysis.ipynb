{
 "cells": [
  {
   "cell_type": "code",
   "execution_count": 23,
   "metadata": {},
   "outputs": [],
   "source": [
    "# -*- coding: utf-8 -*-\n",
    "\"\"\"\n",
    "@author: Shikha\n",
    "\"\"\"\n",
    "import pandas as pd\n",
    "import numpy as np\n",
    "import matplotlib.pyplot as plt\n",
    "import json\n",
    "import time\n",
    "import requests as req\n",
    "import urllib\n",
    "from citipy import citipy as cp\n"
   ]
  },
  {
   "cell_type": "code",
   "execution_count": 21,
   "metadata": {},
   "outputs": [],
   "source": [
    "apiKey = 'aa2b51e6196a31e385d4c816344885bd'\n",
    "apiUrl = \"http://api.openweathermap.org/data/2.5/weather?units=Imperial&APPID=\" +apiKey\n",
    "\n",
    "latLon = [] \n",
    "\n",
    "x = np.random.uniform(-90,90,1500)      #Latitudes range \n",
    "y = np.random.uniform(-180, 180,1500)   #Longitudes range\n",
    "latLon = zip(x, y)\n",
    "\n",
    "cityList = []\n",
    "for i in latLon:\n",
    "    city = cp.nearest_city(i[0], i[1]).city_name\n",
    "    if city not in cityList:\n",
    "        cityList.append(city)"
   ]
  },
  {
   "cell_type": "code",
   "execution_count": null,
   "metadata": {},
   "outputs": [],
   "source": [
    "weatherDf = []\n",
    "\n",
    "for i, city in enumerate(cityList):\n",
    "    cityURL = apiUrl + \"&q=\" + urllib.request.pathname2url(city)   \n",
    "    count += 1\n",
    "    try:\n",
    "        data = req.get(cityURL).json() \n",
    "        lati = data[\"coord\"][\"lat\"]\n",
    "        lngi = data[\"coord\"][\"lon\"]\n",
    "        maxTemp = data[\"main\"][\"temp_max\"]\n",
    "        humidity = data[\"main\"][\"humidity\"]\n",
    "        clouds = data[\"clouds\"][\"all\"]\n",
    "        wind = data[\"wind\"][\"speed\"]\n",
    "        country = data[\"sys\"][\"country\"]\n",
    "        date = data[\"dt\"]\n",
    "        #fill in the weather data frame        \n",
    "        weatherDf.append({\"Latitude\":lati,\"Longitude\":lngi, \"Humidity\":humidity, \"Wind\":wind, \"Clouds\":clouds,\n",
    "                                  \"City_name\":city, \"Temperature\":maxTemp})\n",
    "    except:\n",
    "        print(\"City not found...\")\n",
    "        pass        \n"
   ]
  },
  {
   "cell_type": "code",
   "execution_count": null,
   "metadata": {},
   "outputs": [],
   "source": [
    "weatherDfNew =  pd.DataFrame(weatherDf)\n",
    "weatherDfNew.to_csv(\"weatherData.csv\", sep=',', encoding='utf-8')"
   ]
  },
  {
   "cell_type": "code",
   "execution_count": null,
   "metadata": {},
   "outputs": [],
   "source": [
    "weatherDfNew.head()"
   ]
  },
  {
   "cell_type": "code",
   "execution_count": null,
   "metadata": {},
   "outputs": [],
   "source": [
    "plt.scatter(weatherDfNew['Latitude'], weatherDfNew['Wind'])\n",
    "plt.title(f\"Wind Speed(mph) vs. Latitude\")\n",
    "plt.xlabel(\"Latitude\")\n",
    "plt.ylabel(\"Wind Speed(mph)\")\n",
    "#plt.style.use('ggplot')\n",
    "plt.style.use('presentation')\n",
    "#plt.style.use(['dark_background', 'presentation'])\n",
    "plt.savefig(\"Wind_Speed.png\")\n",
    "plt.show()"
   ]
  },
  {
   "cell_type": "code",
   "execution_count": null,
   "metadata": {},
   "outputs": [],
   "source": [
    "#scatter plot (latitude,Temperature)\n",
    "plt.scatter(weatherDfNew['Latitude'],weatherDfNew['Temperature'])\n",
    "plt.title(f\"Temperature (F) vs. Latitude {date}\")\n",
    "plt.xlabel(\"Latitude\")\n",
    "plt.ylabel(\"Temperature (F)\")\n",
    "plt.style.use('ggplot')\n",
    "plt.savefig(\"Temperature.png\")\n",
    "plt.show()"
   ]
  },
  {
   "cell_type": "code",
   "execution_count": null,
   "metadata": {},
   "outputs": [],
   "source": [
    "#scatter plot (latitude,humidity)\n",
    "plt.scatter(weatherDfNew['Latitude'], weatherDfNew['Humidity'])\n",
    "plt.title(f\"Humidity (%) vs. Latitude {date}\")\n",
    "plt.xlabel(\"Latitude\")\n",
    "plt.ylabel(\"Humidity (%)\")\n",
    "plt.style.use('ggplot')\n",
    "plt.savefig(\"Humidity.png\")\n",
    "plt.show()"
   ]
  },
  {
   "cell_type": "code",
   "execution_count": null,
   "metadata": {},
   "outputs": [],
   "source": [
    "#scatter plot (latitude,cloudy)\n",
    "plt.scatter(weatherDfNew['Latitude'], weatherDfNew['Clouds'])\n",
    "plt.title(f\"Cloudiness (%) vs. Latitude\")\n",
    "plt.xlabel(\"Latitude\")\n",
    "plt.ylabel(\"Cloudiness (%)\")\n",
    "plt.style.use('ggplot')\n",
    "plt.savefig(\"Cloudiness.png\")\n",
    "plt.show()"
   ]
  },
  {
   "cell_type": "code",
   "execution_count": null,
   "metadata": {},
   "outputs": [],
   "source": []
  },
  {
   "cell_type": "code",
   "execution_count": null,
   "metadata": {},
   "outputs": [],
   "source": []
  }
 ],
 "metadata": {
  "kernelspec": {
   "display_name": "Python 3",
   "language": "python",
   "name": "python3"
  },
  "language_info": {
   "codemirror_mode": {
    "name": "ipython",
    "version": 3
   },
   "file_extension": ".py",
   "mimetype": "text/x-python",
   "name": "python",
   "nbconvert_exporter": "python",
   "pygments_lexer": "ipython3",
   "version": "3.6.4"
  }
 },
 "nbformat": 4,
 "nbformat_minor": 2
}
